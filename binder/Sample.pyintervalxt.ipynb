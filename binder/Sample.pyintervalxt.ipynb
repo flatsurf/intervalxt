{
 "cells": [
  {
   "cell_type": "markdown",
   "metadata": {},
   "source": [
    "# The Python Interface of intervalxt\n",
    "We create an IET on the five labels a, b, c, d, e:"
   ]
  },
  {
   "cell_type": "code",
   "execution_count": null,
   "metadata": {},
   "outputs": [],
   "source": [
    "from pyintervalxt import IntervalExchangeTransformation\n",
    "\n",
    "iet = IntervalExchangeTransformation([977, 351, 143, 321, 12], [3, 2, 0, 4, 1])\n",
    "\n",
    "print(iet)"
   ]
  },
  {
   "cell_type": "markdown",
   "metadata": {},
   "source": [
    "Perform one step of Zorich Induction on this IET, i.e., subtract [d] from [a]:"
   ]
  },
  {
   "cell_type": "code",
   "execution_count": null,
   "metadata": {},
   "outputs": [],
   "source": [
    "iet.zorichInduction()\n",
    "\n",
    "print(iet)"
   ]
  }
 ],
 "metadata": {
  "kernelspec": {
   "display_name": "Python 3 (ipykernel)",
   "language": "python",
   "name": "python3"
  },
  "language_info": {
   "codemirror_mode": {
    "name": "ipython",
    "version": 3
   },
   "file_extension": ".py",
   "mimetype": "text/x-python",
   "name": "python",
   "nbconvert_exporter": "python",
   "pygments_lexer": "ipython3",
   "version": "3.9.6"
  }
 },
 "nbformat": 4,
 "nbformat_minor": 2
}
