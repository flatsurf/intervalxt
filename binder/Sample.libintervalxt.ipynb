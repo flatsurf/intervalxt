{
 "cells": [
  {
   "cell_type": "markdown",
   "metadata": {},
   "source": [
    "# The C++ Interface of intervalxt"
   ]
  },
  {
   "cell_type": "code",
   "execution_count": null,
   "metadata": {},
   "outputs": [],
   "source": [
    "#include <iostream>\n",
    "#include <memory>\n",
    "\n",
    "#include <intervalxt/intervalxt.hpp>\n",
    "\n",
    "// We use the sample implementation that associates labels to lengths.\n",
    "#include <intervalxt/sample/lengths.hpp>\n",
    "\n",
    "// We will work with integers in this examples.\n",
    "#include <intervalxt/sample/integer_coefficients.hpp>\n",
    "#include <intervalxt/sample/integer_floor_division.hpp>"
   ]
  },
  {
   "cell_type": "markdown",
   "metadata": {},
   "source": [
    "We create an IET on the five labels a, b, c, d, e:"
   ]
  },
  {
   "cell_type": "code",
   "execution_count": null,
   "metadata": {},
   "outputs": [],
   "source": [
    "// Unfortunately, this destructuring does not work as of mid 2021 in an interactive notebook, i.e., in cling:\n",
    "// auto&& [lengths, a, b, c, d, e] = intervalxt::sample::Lengths<int>::make(977, 351, 143, 321, 12);\n",
    "\n",
    "auto lengthsAndLabels = intervalxt::sample::Lengths<int>::make(977, 351, 143, 321, 12);\n",
    "intervalxt::Lengths lengths = std::get<0>(lengthsAndLabels);\n",
    "auto a = std::get<1>(lengthsAndLabels);\n",
    "auto b = std::get<2>(lengthsAndLabels);\n",
    "auto c = std::get<3>(lengthsAndLabels);\n",
    "auto d = std::get<4>(lengthsAndLabels);\n",
    "auto e = std::get<5>(lengthsAndLabels);\n",
    "\n",
    "auto iet = intervalxt::IntervalExchangeTransformation(std::make_shared<intervalxt::Lengths>(lengths),\n",
    "    {a, b, c, d, e},\n",
    "    {d, c, a, e, b});"
   ]
  },
  {
   "cell_type": "code",
   "execution_count": null,
   "metadata": {},
   "outputs": [],
   "source": [
    "std::cout << iet << std::endl;"
   ]
  },
  {
   "cell_type": "markdown",
   "metadata": {},
   "source": [
    "Perform one step of Zorich Induction on this IET, i.e., subtract [d] from [a]:"
   ]
  },
  {
   "cell_type": "code",
   "execution_count": null,
   "metadata": {},
   "outputs": [],
   "source": [
    "iet.zorichInduction();\n",
    "\n",
    "std::cout << iet << std::endl;"
   ]
  }
 ],
 "metadata": {
  "kernelspec": {
   "display_name": "C++17",
   "language": "C++17",
   "name": "xcpp17"
  },
  "language_info": {
   "codemirror_mode": "text/x-c++src",
   "file_extension": ".cpp",
   "mimetype": "text/x-c++src",
   "name": "c++",
   "version": "17"
  }
 },
 "nbformat": 4,
 "nbformat_minor": 2
}
