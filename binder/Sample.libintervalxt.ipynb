{
 "cells": [
  {
   "cell_type": "code",
   "execution_count": null,
   "metadata": {},
   "outputs": [],
   "source": [
    "#include <iostream>\n",
    "#include <memory>\n",
    "\n",
    "#include <intervalxt/intervalxt.hpp>\n",
    "\n",
    "#include <intervalxt/sample/lengths.hpp>\n",
    "#include <intervalxt/sample/integer_coefficients.hpp>\n",
    "#include <intervalxt/sample/integer_floor_division.hpp>"
   ]
  },
  {
   "cell_type": "code",
   "execution_count": null,
   "metadata": {},
   "outputs": [],
   "source": [
    "using namespace intervalxt;\n",
    "\n",
    "auto [lengths, a, b, c, d, e] = sample::Lengths<int>::make(977, 351, 143, 321, 12);\n",
    "auto iet = IntervalExchangeTransformation(std::make_shared<Lengths>(lengths), {a, b, c, d, e}, {d, c, a, e, b});\n",
    "\n",
    "iet"
   ]
  },
  {
   "cell_type": "code",
   "execution_count": null,
   "metadata": {},
   "outputs": [],
   "source": [
    "iet.zorichInduction();\n",
    "\n",
    "iet"
   ]
  }
 ],
 "metadata": {
  "kernelspec": {
   "display_name": "C++17",
   "language": "C++17",
   "name": "xcpp17"
  },
  "language_info": {
   "codemirror_mode": "text/x-c++src",
   "file_extension": ".cpp",
   "mimetype": "text/x-c++src",
   "name": "c++",
   "version": "17"
  }
 },
 "nbformat": 4,
 "nbformat_minor": 2
}
